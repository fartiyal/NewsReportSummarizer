{
 "cells": [
  {
   "cell_type": "code",
   "execution_count": 1,
   "id": "ee0094df",
   "metadata": {},
   "outputs": [
    {
     "name": "stdout",
     "output_type": "stream",
     "text": [
      "Requirement already satisfied: nltk in d:\\users\\farti\\anaconda3\\lib\\site-packages (3.7)\n",
      "Requirement already satisfied: joblib in d:\\users\\farti\\anaconda3\\lib\\site-packages (from nltk) (1.1.1)\n",
      "Requirement already satisfied: regex>=2021.8.3 in d:\\users\\farti\\anaconda3\\lib\\site-packages (from nltk) (2022.7.9)\n",
      "Requirement already satisfied: click in d:\\users\\farti\\anaconda3\\lib\\site-packages (from nltk) (8.0.4)\n",
      "Requirement already satisfied: tqdm in d:\\users\\farti\\anaconda3\\lib\\site-packages (from nltk) (4.64.1)\n",
      "Requirement already satisfied: colorama in d:\\users\\farti\\anaconda3\\lib\\site-packages (from click->nltk) (0.4.6)\n"
     ]
    }
   ],
   "source": [
    "!pip install nltk\n",
    "import nltk\n"
   ]
  },
  {
   "cell_type": "code",
   "execution_count": 15,
   "id": "54b41ae5",
   "metadata": {},
   "outputs": [
    {
     "name": "stderr",
     "output_type": "stream",
     "text": [
      "[nltk_data] Error loading stopwords: <urlopen error [WinError 10060] A\n",
      "[nltk_data]     connection attempt failed because the connected party\n",
      "[nltk_data]     did not properly respond after a period of time, or\n",
      "[nltk_data]     established connection failed because connected host\n",
      "[nltk_data]     has failed to respond>\n"
     ]
    },
    {
     "data": {
      "text/plain": [
       "False"
      ]
     },
     "execution_count": 15,
     "metadata": {},
     "output_type": "execute_result"
    }
   ],
   "source": [
    "nltk.download('stopwords')"
   ]
  },
  {
   "cell_type": "code",
   "execution_count": 16,
   "id": "2bcf6b1f",
   "metadata": {},
   "outputs": [
    {
     "name": "stderr",
     "output_type": "stream",
     "text": [
      "[nltk_data] Error loading punkt: <urlopen error [WinError 10060] A\n",
      "[nltk_data]     connection attempt failed because the connected party\n",
      "[nltk_data]     did not properly respond after a period of time, or\n",
      "[nltk_data]     established connection failed because connected host\n",
      "[nltk_data]     has failed to respond>\n"
     ]
    },
    {
     "data": {
      "text/plain": [
       "False"
      ]
     },
     "execution_count": 16,
     "metadata": {},
     "output_type": "execute_result"
    }
   ],
   "source": [
    "nltk.download('punkt')"
   ]
  },
  {
   "cell_type": "code",
   "execution_count": 3,
   "id": "ed504d07",
   "metadata": {},
   "outputs": [],
   "source": [
    "from nltk.tokenize import word_tokenize,sent_tokenize\n",
    "from nltk.corpus import stopwords"
   ]
  },
  {
   "cell_type": "code",
   "execution_count": 4,
   "id": "cdc2896f",
   "metadata": {},
   "outputs": [],
   "source": [
    "from collections import defaultdict"
   ]
  },
  {
   "cell_type": "code",
   "execution_count": 5,
   "id": "cbe5e2d2",
   "metadata": {},
   "outputs": [],
   "source": [
    "import string"
   ]
  },
  {
   "cell_type": "code",
   "execution_count": 6,
   "id": "4326f693",
   "metadata": {},
   "outputs": [],
   "source": [
    "from heapq import nlargest"
   ]
  },
  {
   "cell_type": "code",
   "execution_count": 7,
   "id": "ab446da3",
   "metadata": {},
   "outputs": [],
   "source": [
    "class FrequencySummarizer:\n",
    "    def __init__(self,min_cut=0.1,max_cut=0.9):\n",
    "       \n",
    "        self._min_cut=min_cut\n",
    "        self._max_cut=max_cut\n",
    "        \n",
    "#     def def_value():\n",
    "#         return 'not present'\n",
    "    def _compute_frequencies(self,word_sent):\n",
    "        freq=defaultdict(int)\n",
    "        for sentence in word_sent:\n",
    "            for word in sentence:\n",
    "                if word not in stopwords.words('english'):\n",
    "                    if word not in string.punctuation:\n",
    "                        freq[word]+=1\n",
    "        max_freq=float(max(freq.values()))\n",
    "        for word in freq.keys():\n",
    "            freq[word]=freq[word]/max_freq\n",
    "#             if freq[word]>=self._max_cut or freq[word]<=self._min_cut:\n",
    "#                 del freq[word]\n",
    "        return freq\n",
    "    def summarize(self,text,n):\n",
    "        sents=sent_tokenize(text)\n",
    "        assert n<=len(sents)\n",
    "        word_sent=[word_tokenize(s.lower()) for s in sents]\n",
    "        self._freq=self._compute_frequencies(word_sent)\n",
    "        rankings=defaultdict(int)\n",
    "        for i,sent in enumerate(word_sent):\n",
    "            for word in sent:\n",
    "                if word in self._freq:\n",
    "                    rankings[i]+=self._freq[word]\n",
    "        sents_idx=nlargest(n,rankings,key=rankings.get) \n",
    "        ans=[]\n",
    "        for i in sents_idx:\n",
    "            ans.append(sents[i])\n",
    "       \n",
    "        return ans;\n",
    "            \n",
    "            "
   ]
  },
  {
   "cell_type": "code",
   "execution_count": 8,
   "id": "5f597ac5",
   "metadata": {},
   "outputs": [
    {
     "name": "stdout",
     "output_type": "stream",
     "text": [
      "Requirement already satisfied: urllib3 in d:\\users\\farti\\anaconda3\\lib\\site-packages (1.26.14)\n"
     ]
    }
   ],
   "source": [
    "!pip install urllib3\n",
    "import urllib3\n",
    "from bs4 import BeautifulSoup"
   ]
  },
  {
   "cell_type": "code",
   "execution_count": 9,
   "id": "5a01c47b",
   "metadata": {},
   "outputs": [],
   "source": [
    "def get_only_text_washingtonpost_url(url):\n",
    "    http = urllib3.PoolManager()\n",
    "    page=http.request(\"GET\", url)\n",
    "    soup=BeautifulSoup(page.data)\n",
    "    text=' '.join(map(lambda p:p.text,soup.find_all('article')))\n",
    "    soup2=BeautifulSoup(text)\n",
    "    text=' '.join(map(lambda p:p.text, soup2.find_all('p')))\n",
    "\n",
    "    return soup.title.text,text\n",
    "    \n",
    "    "
   ]
  },
  {
   "cell_type": "code",
   "execution_count": 10,
   "id": "9bb4ee68",
   "metadata": {},
   "outputs": [],
   "source": [
    "someurl='https://www.washingtonpost.com/world/2023/07/02/zaporizhzhia-nuclear-meltdown-inhabitants/'\n",
    "textOfUrl=get_only_text_washingtonpost_url(someurl)"
   ]
  },
  {
   "cell_type": "code",
   "execution_count": 11,
   "id": "361a26db",
   "metadata": {},
   "outputs": [],
   "source": [
    "fs=FrequencySummarizer()\n"
   ]
  },
  {
   "cell_type": "code",
   "execution_count": 12,
   "id": "8e2cf7fa",
   "metadata": {},
   "outputs": [],
   "source": [
    "summary=fs.summarize(textOfUrl[1],3)"
   ]
  },
  {
   "cell_type": "code",
   "execution_count": 13,
   "id": "9039091b",
   "metadata": {},
   "outputs": [
    {
     "data": {
      "text/plain": [
       "['It is now faced with a dwindling supply of water because of the dam breach.After the construction of the plant in the 1980s, the reservoir of the Kakhovka dam was used to fill the holding pond cooling its reactors and spent fuel.As of June 24, the pond’s water level stands at about 16 meters (52 feet) — only four meters above the minimum level necessary to cool the plant, said Olena Pareniuk, a senior researcher at Ukraine’s National Academy of Sciences who has studied nuclear power plant disasters.The situation led the International Atomic Energy Agency’s general director to conduct an emergency inspection of the nuclear plant days after the dam breach.In a statement posted on the IAEA’s website, Rafael Mariano Grossi said the cooling pond is being replenished with water from a discharge channel at a nearby coal-fired power plant and from a drainage system fed by underground water.',\n",
       " 'Detail\\n\\n\\nCanal from Zaporizhzhia\\nthermal power plant\\n11.15m\\n\\n\\nNikopol\\n\\n\\nKakhovka reservoir\\nLess than 9m\\n\\n\\nCooling pond\\n16.60m\\n\\n\\nDnieper River\\n\\n\\nThermal\\npower plant\\n\\n\\nZaporizhzhia\\nnuclear\\npower plant\\n\\n\\nEnerhodar\\n\\n\\nPower\\ntransmission\\nlines \\n750kV\\n\\n\\nVodyane\\n\\n\\nRUSSIAN-CONTROLLED AREAS\\n\\n\\nNote: status as of June 23, 2023\\n\\n\\nSource: Energoatom\\n\\n\\nSAMUEL GRANADOS / THE WASHINGTON POST\\n\\n\\n\\n\\n\\n\\nWater levels at the Zaporizhzhia nuclear power plant\\n\\n\\nUkraine has 15 functional nuclear reactors, which together supplied 51 percent of its electricity in 2020.',\n",
       " 'Detail\\n\\n\\nKakhovka reservoir\\nLess than 9m\\n\\n\\nCanal from Zaporizhzhia\\nthermal power plant\\n11.15m\\n\\n\\nDnieper\\n\\n\\nCooling pond\\n16.60m\\n\\n\\nThermal\\npower plant\\n\\n\\nZaporizhzhia\\nnuclear\\npower plant\\n\\n\\nEnerhodar\\n\\n\\nPower\\ntransmission\\nlines \\n750kV\\n\\n\\nRUSSIAN-CONTROLLED AREAS\\n\\n\\nNote: status as of June 23, 2023\\n\\n\\nSource: Energoatom\\n\\n\\nSAMUEL GRANADOS / THE WASHINGTON POST\\n\\n\\n\\n\\n\\n\\nWater levels at the Zaporizhzhia \\nnuclear power plant\\n\\n\\nUkraine has 15 functional nuclear reactors, which together supplied 51 percent of its electricity in 2020.']"
      ]
     },
     "execution_count": 13,
     "metadata": {},
     "output_type": "execute_result"
    }
   ],
   "source": [
    "summary"
   ]
  },
  {
   "cell_type": "code",
   "execution_count": 14,
   "id": "555eac79",
   "metadata": {},
   "outputs": [
    {
     "ename": "NameError",
     "evalue": "name 'word_sent' is not defined",
     "output_type": "error",
     "traceback": [
      "\u001b[1;31m---------------------------------------------------------------------------\u001b[0m",
      "\u001b[1;31mNameError\u001b[0m                                 Traceback (most recent call last)",
      "Cell \u001b[1;32mIn[14], line 1\u001b[0m\n\u001b[1;32m----> 1\u001b[0m \u001b[43mword_sent\u001b[49m\n",
      "\u001b[1;31mNameError\u001b[0m: name 'word_sent' is not defined"
     ]
    }
   ],
   "source": [
    "word_sent"
   ]
  },
  {
   "cell_type": "code",
   "execution_count": null,
   "id": "eb444f0b",
   "metadata": {},
   "outputs": [],
   "source": []
  },
  {
   "cell_type": "code",
   "execution_count": null,
   "id": "1d37441d",
   "metadata": {},
   "outputs": [],
   "source": []
  },
  {
   "cell_type": "code",
   "execution_count": null,
   "id": "da9bb3a2",
   "metadata": {},
   "outputs": [],
   "source": []
  }
 ],
 "metadata": {
  "kernelspec": {
   "display_name": "Python 3 (ipykernel)",
   "language": "python",
   "name": "python3"
  },
  "language_info": {
   "codemirror_mode": {
    "name": "ipython",
    "version": 3
   },
   "file_extension": ".py",
   "mimetype": "text/x-python",
   "name": "python",
   "nbconvert_exporter": "python",
   "pygments_lexer": "ipython3",
   "version": "3.10.9"
  }
 },
 "nbformat": 4,
 "nbformat_minor": 5
}
